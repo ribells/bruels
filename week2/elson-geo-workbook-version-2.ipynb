{
 "cells": [
  {
   "cell_type": "code",
   "execution_count": 14,
   "id": "902c0128",
   "metadata": {},
   "outputs": [],
   "source": [
    "import random\n",
    "\n",
    "# process monthly precipitation data:\n",
    "\n",
    "Precip = []\n",
    "\n",
    "monthly = 18.78383 #(millimeters?)\n",
    "\n",
    "#need to allocate to the number of days in the month\n",
    "num_days = 31\n",
    "\n",
    "for i in range(0, num_days):\n",
    "    Precip.append(monthly/num_days)\n",
    "    \n",
    "T_air = []\n",
    "\n",
    "monthly = 0.0 #(Celsius)\n",
    "\n",
    "for i in range(0, num_days):\n",
    "    T_air.append(monthly/num_days + float(random.randint(-40, 41))/10.0)\n",
    "    \n",
    "SWE = [25]\n",
    "\n",
    "for i in range(0, num_days):\n",
    "    SWE.append(0)\n"
   ]
  },
  {
   "cell_type": "code",
   "execution_count": 15,
   "id": "495c8194",
   "metadata": {},
   "outputs": [
    {
     "data": {
      "image/png": "[encoded data removed]",
      "text/plain": [
       "<Figure size 432x288 with 1 Axes>"
      ]
     },
     "metadata": {
      "needs_background": "light"
     },
     "output_type": "display_data"
    }
   ],
   "source": [
    "# see: https://www.hec.usace.army.mil/confluence/hmsdocs/hmsguides/modeling-snowmelt/using-the-snowmelt-modeling-capabilities-within-hec-hms\n",
    "\n",
    "import matplotlib.pyplot as plt\n",
    "\n",
    "#calculate snowpack based on weather data\n",
    "\n",
    "#T_air = [0, -2, -2, -5, 0, 0, -12, -14, -8, -7, -10, -2, -3, 0, 1, 5, 4, 2, 8, -1, -2, 4]\n",
    "#Precip = [0, 2, 12, 6, 0, 0, 12, 14, 28, 27, 10, 2, 3, 0, 11, 5, 4, 12, 8, 1, 2, 4]\n",
    "#SWE = [50, 0, 0, 0, 0, 0, 0, 0, 0, 0, 0, 0, 0, 0, 0, 0, 0, 0, 0, 0, 0, 0, 0]\n",
    "\n",
    "# dSWE = P - R + V + B, where:\n",
    "\n",
    "# d = change in\n",
    "# SWE = Snow Water Equivalent\n",
    "# P = Precipitation contribution (see rain-to-snow multiplier table below)\n",
    "# R = Run off (determined by phase change in the snowpack which is determined through the energy balance calculations)\n",
    "# V = mass gained by water Vapor (can be negative)\n",
    "# B = mass gained by Blowing snow (can be negative)\n",
    "\n",
    "# The melt rate for dry conditions typically ranges from 1 to 4 mm/degC-day\n",
    "\n",
    "rain_to_snow = [\n",
    "   #Tmin, Tmax, multiplier \n",
    "    [1, 40, 0],\n",
    "    [-2.8, 1, 10],\n",
    "    [-6.7, -2.8, 15],\n",
    "    [-9.5, -6.7, 20],\n",
    "    [-12.2, -9.5, 30],\n",
    "    [-17.8, -12.2, 40],\n",
    "    [-28.9, -17.8, 50],\n",
    "    [-60, -28.9, 100]]\n",
    "\n",
    "for i in range(0, len(Precip)):\n",
    "    \n",
    "    P = Precip[i]\n",
    "    for r in range(0, len(rain_to_snow)):\n",
    "        if (T_air[i] >= rain_to_snow[r][0]):\n",
    "            if (T_air[i] < rain_to_snow[r][1]):\n",
    "                P = Precip[i]*rain_to_snow[r][2]              \n",
    "    \n",
    "    R = 0\n",
    "    if T_air[i] > 0:\n",
    "        if P == 0:\n",
    "            R = T_air[i] * 2.5 \n",
    "        else:\n",
    "            R = T_air[i] * 5.0\n",
    "\n",
    "    SWE[i+1] = SWE[i] + P - R\n",
    "\n",
    "#plot the stock's performance\n",
    "plt.plot(SWE)\n",
    "plt.title('Snowpack')\n",
    "\n",
    "#print(T_air)\n",
    "\n",
    "plt.show()"
   ]
  },
  {
   "cell_type": "code",
   "execution_count": null,
   "id": "4185993a",
   "metadata": {},
   "outputs": [],
   "source": []
  }
 ],
 "metadata": {
  "kernelspec": {
   "display_name": "Python 3 (ipykernel)",
   "language": "python",
   "name": "python3"
  },
  "language_info": {
   "codemirror_mode": {
    "name": "ipython",
    "version": 3
   },
   "file_extension": ".py",
   "mimetype": "text/x-python",
   "name": "python",
   "nbconvert_exporter": "python",
   "pygments_lexer": "ipython3",
   "version": "3.9.12"
  }
 },
 "nbformat": 4,
 "nbformat_minor": 5
}
