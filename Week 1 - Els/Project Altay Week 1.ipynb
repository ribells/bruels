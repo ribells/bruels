{
 "cells": [
  {
   "cell_type": "code",
   "execution_count": null,
   "id": "5e98958b",
   "metadata": {},
   "outputs": [],
   "source": [
    "#the town Hemu in Altay, which is meant to be the principal focus of development.\n",
    "\n",
    "# get map and basic information of Hemu"
   ]
  },
  {
   "cell_type": "code",
   "execution_count": null,
   "id": "f6eaf036",
   "metadata": {},
   "outputs": [],
   "source": [
    "# Altay Airport, which is infamously small and in the middle of nowhere\n",
    "\n",
    "# isochronehttp://localhost:8889/notebooks/Project%20Altay%20Week%201.ipynb#"
   ]
  },
  {
   "cell_type": "code",
   "execution_count": null,
   "id": "1c30444a",
   "metadata": {},
   "outputs": [],
   "source": [
    "# Locations of important tourist attractions ([Aletai, China 2022: Best Places to Visit - Tripadvisor](https://www.tripadvisor.com/Tourism-g1152625-Aletai_Xinjiang_Uygur-Vacations.html)) to bundle with resorts, creating attractive tourist routes\n",
    "\n",
    "# tripadvisor -> google map\n",
    "# use google map to get travel time\n"
   ]
  },
  {
   "cell_type": "code",
   "execution_count": null,
   "id": "a7d33f14",
   "metadata": {},
   "outputs": [],
   "source": [
    "# Distance to nearby bodies of water for snowmakers, Iremu Lake\n",
    "\n",
    "# OSM-natural\n",
    "\n",
    "# look into scripts that distance between points"
   ]
  },
  {
   "cell_type": "code",
   "execution_count": null,
   "id": "13109944",
   "metadata": {},
   "outputs": [],
   "source": [
    "# High snowfall regions, like Kanas, where apparently snowed on Jul. 20th\n",
    "\n",
    "# global weather site, maybe specifically Chinese\n",
    "\n",
    "# alternatively, craete snowfall region from percipitation"
   ]
  },
  {
   "cell_type": "code",
   "execution_count": null,
   "id": "6befd996",
   "metadata": {},
   "outputs": [],
   "source": [
    "# Mountainous regions, Keketuo Hai\n",
    "\n",
    "# countour lines\n",
    "\n",
    "# categorize heights of mountains into groups using grid like last project\n"
   ]
  }
 ],
 "metadata": {
  "kernelspec": {
   "display_name": "Python 3 (ipykernel)",
   "language": "python",
   "name": "python3"
  },
  "language_info": {
   "codemirror_mode": {
    "name": "ipython",
    "version": 3
   },
   "file_extension": ".py",
   "mimetype": "text/x-python",
   "name": "python",
   "nbconvert_exporter": "python",
   "pygments_lexer": "ipython3",
   "version": "3.9.7"
  }
 },
 "nbformat": 4,
 "nbformat_minor": 5
}
